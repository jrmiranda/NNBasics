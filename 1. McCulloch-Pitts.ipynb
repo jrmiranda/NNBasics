{
 "cells": [
  {
   "cell_type": "markdown",
   "metadata": {},
   "source": [
    "# Redes Neurais: Modelo de McCulloch-Pitts\n",
    "A unidade fundamental das redes neurais artificiais é, naturalmente, o neurônio artificial. O primeiro modelo de neurônio artificial foi implementado em 1943 por Warren McCulloch e Walter Pitts que tomaram como base o neurônio biológico.\n",
    "\n",
    "Apesar de ser um modelo bastante simples ele pode ser utilizado para tomar decisões em diversas situações em que dado algumas entradas com valores somente como verdadeiro ou falso, deseja-se descobrir se a saída será verdadeira ou falsa.\n",
    "\n",
    "Cada entrada poderá ser excitatória ou inibitória. As entradas excitatórias serão adicionadas enquanto as inibitórias, subtraídas. Dessa forma, a presença de uma entrada inibitória irá deixar menos provável o acionamento da saída."
   ]
  },
  {
   "cell_type": "markdown",
   "metadata": {},
   "source": [
    "## Implementação\n",
    "Primeiramente importaremos o NumPy para realizarmos operações com vetores e o Matplotlib para plotar gráficos."
   ]
  },
  {
   "cell_type": "code",
   "execution_count": 2,
   "metadata": {},
   "outputs": [],
   "source": [
    "import numpy as np\n",
    "import matplotlib.pyplot as plt"
   ]
  },
  {
   "cell_type": "markdown",
   "metadata": {},
   "source": [
    "Definiremos uma função `neuron(x, w, b)` que possuirá 3 parâmetros de entrada:\n",
    "\n",
    "+ \"**x**\" se refere ao vetor de entrada, onde cada elemento corresponde a uma entrada específica\n",
    "+ \"**w**\" é o vetor onde cada elemento informará se a o elemento correspondente no vetor de entrada é excitatório(1) ou inibitório(-1)\n",
    "+ \"**b**\" é o threshold\n",
    "\n",
    "O valor retornado pela função será 1 se o valor do produto interno de \"x\" com \"w\" for maior ou igual a \"b\" o 0 caso contrário."
   ]
  },
  {
   "cell_type": "code",
   "execution_count": 3,
   "metadata": {},
   "outputs": [],
   "source": [
    "def neuron(x, w, b):\n",
    "  return int(np.dot(x, w) >= b)"
   ]
  },
  {
   "cell_type": "markdown",
   "metadata": {},
   "source": [
    "É possível simular algumas portas lógicas com o modelo de neurônio implementado.\n",
    "\n",
    "### Porta AND\n",
    "\n",
    "A saída de uma porta AND de 3 bits será verdadeira apenas se os 3 bits de entrada forem verdadeiros. Podemos simular esse comportamento em um neurônio quando a soma das entradas, considerando que todas são excitatórias, é maior ou igual ao número de bits na entrada."
   ]
  },
  {
   "cell_type": "code",
   "execution_count": 8,
   "metadata": {},
   "outputs": [
    {
     "name": "stdout",
     "output_type": "stream",
     "text": [
      "Saída: 0\n",
      "Saída: 0\n",
      "Saída: 0\n",
      "Saída: 0\n",
      "Saída: 0\n",
      "Saída: 0\n",
      "Saída: 0\n",
      "Saída: 1\n"
     ]
    }
   ],
   "source": [
    "X_and = np.array([\n",
    "  [0, 0, 0],\n",
    "  [0, 0, 1],\n",
    "  [0, 1, 0],\n",
    "  [0, 1, 1],\n",
    "  [1, 0, 0],\n",
    "  [1, 0, 1],\n",
    "  [1, 1, 0],\n",
    "  [1, 1, 1],\n",
    "])\n",
    "\n",
    "W_and = np.array([\n",
    "  1,  # x[0] é excitatório\n",
    "  1,  # x[1] é excitatório\n",
    "  1,  # x[2] é excitatório\n",
    "])\n",
    "\n",
    "b_and = 3  # Apenas se a soma for maior ou igual a 3 que a saída será verdadeira\n",
    "\n",
    "for x_and in X_and:\n",
    "  y_and = neuron(x_and, W_and, b_and)\n",
    "  print('Saída: ' + str(y_and))"
   ]
  },
  {
   "cell_type": "markdown",
   "metadata": {},
   "source": [
    "### Porta OR\n",
    "\n",
    "A saída de uma porta OR de 3 bits será verdadeira quando pelo menos um dos 3 bits de entrada forem verdadeiros. Podemos simular esse comportamento em um neurônio quando a soma das entradas, considerando que todas são excitatórias, é maior ou igual a 1."
   ]
  },
  {
   "cell_type": "code",
   "execution_count": 9,
   "metadata": {},
   "outputs": [
    {
     "name": "stdout",
     "output_type": "stream",
     "text": [
      "Saída: 0\n",
      "Saída: 1\n",
      "Saída: 1\n",
      "Saída: 1\n",
      "Saída: 1\n",
      "Saída: 1\n",
      "Saída: 1\n",
      "Saída: 1\n"
     ]
    }
   ],
   "source": [
    "X_or = np.array([\n",
    "  [0, 0, 0],\n",
    "  [0, 0, 1],\n",
    "  [0, 1, 0],\n",
    "  [0, 1, 1],\n",
    "  [1, 0, 0],\n",
    "  [1, 0, 1],\n",
    "  [1, 1, 0],\n",
    "  [1, 1, 1],\n",
    "])\n",
    "\n",
    "W_or = np.array([\n",
    "  1,  # x[0] é excitatório\n",
    "  1,  # x[1] é excitatório\n",
    "  1,  # x[2] é excitatório\n",
    "])\n",
    "\n",
    "b_or = 1  # Apenas se a soma for maior ou igual a 3 que a saída será verdadeira\n",
    "\n",
    "for x_or in X_or:\n",
    "  y_or = neuron(x_or, W_or, b_or)\n",
    "  print('Saída: ' + str(y_or))"
   ]
  },
  {
   "cell_type": "markdown",
   "metadata": {},
   "source": [
    "### Porta NOR\n",
    "\n",
    "Para simular o uso de entradas inibitórias, utilizaremos uma porta NOR, que é apenas uma porta OR com a saída invertida. Dessa forma, se existir pelo menos uma entrada verdadeiro, a saída será falso. Assim, todas as entradas serão inibitórias e a saída será verdadeiro se a soma das entradas invertidas for maior ou igual a 0."
   ]
  },
  {
   "cell_type": "code",
   "execution_count": 13,
   "metadata": {},
   "outputs": [
    {
     "name": "stdout",
     "output_type": "stream",
     "text": [
      "Saída: 1\n",
      "Saída: 0\n",
      "Saída: 0\n",
      "Saída: 0\n",
      "Saída: 0\n",
      "Saída: 0\n",
      "Saída: 0\n",
      "Saída: 0\n"
     ]
    }
   ],
   "source": [
    "X_nor = np.array([\n",
    "  [0, 0, 0],\n",
    "  [0, 0, 1],\n",
    "  [0, 1, 0],\n",
    "  [0, 1, 1],\n",
    "  [1, 0, 0],\n",
    "  [1, 0, 1],\n",
    "  [1, 1, 0],\n",
    "  [1, 1, 1],\n",
    "])\n",
    "\n",
    "W_nor = np.array([\n",
    "  -1,  # x[0] é inibitório\n",
    "  -1,  # x[1] é inibitório\n",
    "  -1,  # x[2] é inibitório\n",
    "])\n",
    "\n",
    "b_nor = 0  # Apenas se a soma for maior ou igual a 3 que a saída será verdadeira\n",
    "\n",
    "for x_nor in X_nor:\n",
    "  y_nor = neuron(x_nor, W_nor, b_nor)\n",
    "  print('Saída: ' + str(y_nor))"
   ]
  }
 ],
 "metadata": {
  "kernelspec": {
   "display_name": "Python 3",
   "language": "python",
   "name": "python3"
  },
  "language_info": {
   "codemirror_mode": {
    "name": "ipython",
    "version": 3
   },
   "file_extension": ".py",
   "mimetype": "text/x-python",
   "name": "python",
   "nbconvert_exporter": "python",
   "pygments_lexer": "ipython3",
   "version": "3.7.3"
  }
 },
 "nbformat": 4,
 "nbformat_minor": 2
}
