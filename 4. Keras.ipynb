{
 "cells": [
  {
   "cell_type": "markdown",
   "metadata": {},
   "source": [
    "# Redes Neurais: Introdução ao Keras\n",
    "Vimos em notebooks anteriores a implementação de alguns algoritmos de Machine Learning. Estes e outros algoritmos já estão bem estabelecidos na comunidade e em projetos de ML normalmente são utilizadas bibliotecas que nos permitem focar apenas no problema que estamos tentando resolver.\n",
    "\n",
    "Uma das bibliotecas de ML mais conhecidas é o TensorFlow. Ela serve para realizar operações entre tensores e executar alguns algoritmos de otimização, por exemplo. Porém, utilizar o TF as vezes se torna cansativo. Para solucionar este problema, foi desenvolvido uma biblioteca que utiliza o TF em um nível mais alto apenas para a implementação de redes neurais, o Keras.\n",
    "\n",
    "Neste exemplo mostraremos como treinar uma rede neural com uma camada oculta para identificar dígitos escritos a mão."
   ]
  },
  {
   "cell_type": "markdown",
   "metadata": {},
   "source": [
    "## Implementação\n",
    "Importaremos algumas bibliotecas, dentre elas o modelo Sequential e o tipo de camada Dense. Veremos mais a frente como cada um funciona."
   ]
  },
  {
   "cell_type": "code",
   "execution_count": 36,
   "metadata": {},
   "outputs": [],
   "source": [
    "import numpy as np\n",
    "import mnist\n",
    "from keras.models import Sequential\n",
    "from keras.layers import Dense\n",
    "from keras.utils import to_categorical\n",
    "import matplotlib.pyplot as plt"
   ]
  },
  {
   "cell_type": "markdown",
   "metadata": {},
   "source": [
    "### O Dataset\n",
    "Carregaremos a partir da biblioteca MNIST as imagens no formato (28, 28) e as labels de cada imagem tanto para treinamento quanto para validação."
   ]
  },
  {
   "cell_type": "code",
   "execution_count": 3,
   "metadata": {},
   "outputs": [],
   "source": [
    "train_images = mnist.train_images()\n",
    "train_labels = mnist.train_labels()\n",
    "test_images = mnist.test_images()\n",
    "test_labels = mnist.test_labels()"
   ]
  },
  {
   "cell_type": "markdown",
   "metadata": {},
   "source": [
    "As imagens possuem valores de 0 até 255. É uma boa prática normalizar estes valores para que a rede possa generalizar mais rápido. Deixaremos os valores entre -0.5 e 0.5. Em seguida \"achataremos\" as imagens de (28, 28) para 784. Dessa forma, teremos apenas uma dimensão de entrada."
   ]
  },
  {
   "cell_type": "code",
   "execution_count": 4,
   "metadata": {},
   "outputs": [],
   "source": [
    "train_images = (train_images / 255) - 0.5\n",
    "test_images = (test_images / 255) - 0.5\n",
    "\n",
    "train_images = train_images.reshape((-1, 784))\n",
    "test_images = test_images.reshape((-1, 784))"
   ]
  },
  {
   "cell_type": "markdown",
   "metadata": {},
   "source": [
    "### O Modelo\n",
    "Instanciaremos o modelo sequencial"
   ]
  },
  {
   "cell_type": "code",
   "execution_count": 45,
   "metadata": {},
   "outputs": [],
   "source": [
    "model = Sequential()"
   ]
  },
  {
   "cell_type": "markdown",
   "metadata": {},
   "source": [
    "Definimos uma rede da seguinte forma:\n",
    "+ A camada de entrada possui 784 neurônios, referentes ao tamanho da imagem\n",
    "+ A camada oculta terá 64 neurônios e ativação ReLU\n",
    "+ A camada de saída terá 10 neurônios correspondentes a cada digito e saída softmax"
   ]
  },
  {
   "cell_type": "code",
   "execution_count": 46,
   "metadata": {},
   "outputs": [],
   "source": [
    "model.add(Dense(64, input_shape=(784,), activation='relu'))\n",
    "model.add(Dense(10, activation='softmax'))"
   ]
  },
  {
   "cell_type": "markdown",
   "metadata": {},
   "source": [
    "Compilaremos o modelo com o otimizador ADAM e função de custo categorical_crossentropy."
   ]
  },
  {
   "cell_type": "code",
   "execution_count": 47,
   "metadata": {},
   "outputs": [],
   "source": [
    "model.compile(optimizer='adam', loss='categorical_crossentropy', metrics=['accuracy'])"
   ]
  },
  {
   "cell_type": "markdown",
   "metadata": {},
   "source": [
    "### Treinando o Modelo\n",
    "Nesta etapa treinaremos o modelo com 10 épocas e tamanho do batch 32"
   ]
  },
  {
   "cell_type": "code",
   "execution_count": 48,
   "metadata": {},
   "outputs": [
    {
     "name": "stdout",
     "output_type": "stream",
     "text": [
      "Train on 60000 samples, validate on 10000 samples\n",
      "Epoch 1/10\n",
      "60000/60000 [==============================] - 4s 69us/step - loss: 0.3894 - acc: 0.8854 - val_loss: 0.2525 - val_acc: 0.9250\n",
      "Epoch 2/10\n",
      "60000/60000 [==============================] - 5s 85us/step - loss: 0.2210 - acc: 0.9342 - val_loss: 0.2004 - val_acc: 0.9412\n",
      "Epoch 3/10\n",
      "60000/60000 [==============================] - 5s 78us/step - loss: 0.1729 - acc: 0.9489 - val_loss: 0.1599 - val_acc: 0.9526\n",
      "Epoch 4/10\n",
      "60000/60000 [==============================] - 4s 73us/step - loss: 0.1434 - acc: 0.9577 - val_loss: 0.1528 - val_acc: 0.9571\n",
      "Epoch 5/10\n",
      "60000/60000 [==============================] - 4s 67us/step - loss: 0.1251 - acc: 0.9618 - val_loss: 0.1316 - val_acc: 0.9620\n",
      "Epoch 6/10\n",
      "60000/60000 [==============================] - 4s 65us/step - loss: 0.1122 - acc: 0.9657 - val_loss: 0.1273 - val_acc: 0.9615\n",
      "Epoch 7/10\n",
      "60000/60000 [==============================] - 4s 67us/step - loss: 0.1021 - acc: 0.9684 - val_loss: 0.1232 - val_acc: 0.9624\n",
      "Epoch 8/10\n",
      "60000/60000 [==============================] - 4s 65us/step - loss: 0.0941 - acc: 0.9713 - val_loss: 0.1102 - val_acc: 0.9677\n",
      "Epoch 9/10\n",
      "60000/60000 [==============================] - 4s 64us/step - loss: 0.0884 - acc: 0.9724 - val_loss: 0.1209 - val_acc: 0.9650\n",
      "Epoch 10/10\n",
      "60000/60000 [==============================] - 4s 64us/step - loss: 0.0830 - acc: 0.9736 - val_loss: 0.1164 - val_acc: 0.9676\n"
     ]
    }
   ],
   "source": [
    "history = model.fit(\n",
    "  train_images, to_categorical(train_labels),\n",
    "  validation_data=(test_images, to_categorical(test_labels)),\n",
    "  epochs=10,\n",
    "  batch_size=32)"
   ]
  },
  {
   "cell_type": "markdown",
   "metadata": {},
   "source": [
    "### Resultados\n",
    "A rede obteve 96% de acurácia no conjunto de validação em apenas 10 épocas."
   ]
  },
  {
   "cell_type": "markdown",
   "metadata": {},
   "source": [
    "#### Custo durante o treinamento"
   ]
  },
  {
   "cell_type": "code",
   "execution_count": 49,
   "metadata": {},
   "outputs": [
    {
     "data": {
      "text/plain": [
       "[<matplotlib.lines.Line2D at 0x7f8351b9dd30>]"
      ]
     },
     "execution_count": 49,
     "metadata": {},
     "output_type": "execute_result"
    },
    {
     "data": {
      "image/png": "[encoded data removed]",
      "text/plain": [
       "<Figure size 432x288 with 1 Axes>"
      ]
     },
     "metadata": {
      "needs_background": "light"
     },
     "output_type": "display_data"
    }
   ],
   "source": [
    "plt.plot(history.history['loss'])\n",
    "plt.plot(history.history['val_loss'])"
   ]
  },
  {
   "cell_type": "markdown",
   "metadata": {},
   "source": [
    "#### Acurácia durante o treinamento"
   ]
  },
  {
   "cell_type": "code",
   "execution_count": 50,
   "metadata": {},
   "outputs": [
    {
     "data": {
      "text/plain": [
       "[<matplotlib.lines.Line2D at 0x7f8351264c88>]"
      ]
     },
     "execution_count": 50,
     "metadata": {},
     "output_type": "execute_result"
    },
    {
     "data": {
      "image/png": "[encoded data removed]",
      "text/plain": [
       "<Figure size 432x288 with 1 Axes>"
      ]
     },
     "metadata": {
      "needs_background": "light"
     },
     "output_type": "display_data"
    }
   ],
   "source": [
    "plt.plot(history.history['acc'])\n",
    "plt.plot(history.history['val_acc'])"
   ]
  },
  {
   "cell_type": "markdown",
   "metadata": {},
   "source": [
    "### Testando em outras images\n",
    "O método `predict` passa uma entrada pela rede neural e nos retorna a saída. Por exemplo:"
   ]
  },
  {
   "cell_type": "code",
   "execution_count": 61,
   "metadata": {},
   "outputs": [
    {
     "name": "stdout",
     "output_type": "stream",
     "text": [
      "[[0. 0. 0. 0. 1. 0. 0. 0. 0. 0.]]\n"
     ]
    },
    {
     "data": {
      "image/png": "[encoded data removed]",
      "text/plain": [
       "<Figure size 432x288 with 1 Axes>"
      ]
     },
     "metadata": {
      "needs_background": "light"
     },
     "output_type": "display_data"
    }
   ],
   "source": [
    "image = test_images[42]\n",
    "\n",
    "pred = model.predict(image.reshape(1, 784))\n",
    "print(pred.round())\n",
    "\n",
    "plt.imshow(image.reshape(28,28))\n",
    "plt.show()"
   ]
  },
  {
   "cell_type": "code",
   "execution_count": null,
   "metadata": {},
   "outputs": [],
   "source": []
  }
 ],
 "metadata": {
  "kernelspec": {
   "display_name": "Python 3",
   "language": "python",
   "name": "python3"
  },
  "language_info": {
   "codemirror_mode": {
    "name": "ipython",
    "version": 3
   },
   "file_extension": ".py",
   "mimetype": "text/x-python",
   "name": "python",
   "nbconvert_exporter": "python",
   "pygments_lexer": "ipython3",
   "version": "3.7.3"
  }
 },
 "nbformat": 4,
 "nbformat_minor": 2
}
