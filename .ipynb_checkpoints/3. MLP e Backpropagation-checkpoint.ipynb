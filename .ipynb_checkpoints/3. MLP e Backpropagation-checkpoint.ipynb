{
 "cells": [
  {
   "cell_type": "markdown",
   "metadata": {},
   "source": [
    "# Redes Neurais: MLP e Backpropagation\n",
    "\n",
    "No notebook anterior vimos que existe um problema de linearidade no caso de um neurônio. As vezes o problema exige uma complexidade maior do modelo onde seja necessário um comportamento não linear. Para isto, aumentaremos a complexidade do modelo da seguinte maneira:\n",
    "+ Os neurônios agora se conectarão entre si formando uma rede dividida em camadas, onde cada uma representa uma parte da abstração do problema\n",
    "+ A função de ativação utilizada será uma função não linear, como por exemplo a sigmoide\n",
    "+ O algoritmo de treinamento levará em conta uma função de custo e por meio do gradiente do custo com os pesos, atualizaremos os pesos"
   ]
  },
  {
   "cell_type": "markdown",
   "metadata": {},
   "source": [
    "## Implementação\n",
    "Primeiramente importamos as bibliotecas necessárias."
   ]
  },
  {
   "cell_type": "code",
   "execution_count": 490,
   "metadata": {},
   "outputs": [],
   "source": [
    "import numpy as np\n",
    "import matplotlib.pyplot as plt"
   ]
  },
  {
   "cell_type": "markdown",
   "metadata": {},
   "source": [
    "### Função de ativação\n",
    "Após o produto interno em cada neurônio, é necessário passar este resultado por uma função de ativação. Neste caso utilizaremos a função sigmoide que é definida abaixo em `sigmoid`. Note que caso o argumento `deriv` seja verdadeiro, a derivada da função será retornada. Isso será útil no backpropagation."
   ]
  },
  {
   "cell_type": "code",
   "execution_count": 273,
   "metadata": {},
   "outputs": [],
   "source": [
    "def sigmoid(x, deriv=False):\n",
    "  if deriv:\n",
    "    return sigmoid(x) * (1 - sigmoid(x))\n",
    "  return 1 / (1+np.exp(-x))"
   ]
  },
  {
   "cell_type": "markdown",
   "metadata": {},
   "source": [
    "### A classe MLP\n",
    "Definiremos uma classe `MLP` que terá como argumentos do construtor que tem como argumentos:\n",
    "+ `input_size`: A quantidade de neurônios na camada de entrada\n",
    "+ `hidden_size`: A quantidade de neurônios na camada oculta\n",
    "+ `output_size`: A quantidade de neurônios na camada de saída\n",
    "\n",
    "O método `forward` calcula a saída em cada camada de acordo com uma entrada `X` e o método `predict` calcula a saída apenas na última camada.\n",
    "\n",
    "#### Treinamento\n",
    "Para treinar esta rede neural utilizaremos o algoritmo backpropagation para calcular os gradientes em cada camada. Isto é necessário pois o valor que será atualizado nos pesos dependerá do gradiente da função de custo em relação a cada peso. Este processo será repetido por várias épocas até a rede convertir."
   ]
  },
  {
   "cell_type": "code",
   "execution_count": 546,
   "metadata": {},
   "outputs": [],
   "source": [
    "class MLP():\n",
    "  def __init__(self, input_size, hidden_size, output_size):\n",
    "    # Inicializa os pesos de cada camada\n",
    "    self.Wxh = np.random.randn(input_size+1, hidden_size)\n",
    "    self.Who = np.random.randn(hidden_size, output_size)\n",
    "    \n",
    "    \n",
    "  def forward(self, X):\n",
    "    # Acrescenta na entrada um valor extra fixo em 1 que servirá para o bias\n",
    "    ones_l0 = np.ones((X.shape[0], 1))\n",
    "    l0 = np.concatenate((X, ones_l0), axis=1)\n",
    "    # Calcula a saída na camada oculta\n",
    "    l1 = sigmoid(np.dot(l0, self.Wxh))\n",
    "    # Calcula a saída da rede\n",
    "    l2 = sigmoid(np.dot(l1, self.Who))\n",
    "    return l0, l1, l2\n",
    "    \n",
    "    \n",
    "  def predict(self, X):\n",
    "    l0, l1, l2 = self.forward(X)\n",
    "    return l2\n",
    "    \n",
    "    \n",
    "  def fit(self, X, y, epochs=50, lr=1e-3):\n",
    "    total_loss = []\n",
    "    \n",
    "    for epoch in range(epochs):\n",
    "      l0, l1, l2 = self.forward(X)\n",
    "\n",
    "      l2_error = y - l2\n",
    "      l2_delta = l2_error * sigmoid(l2, deriv=True)\n",
    "\n",
    "      l1_error = l2_delta.dot(self.Who.T)\n",
    "      l1_delta = l1_error * sigmoid(l1, deriv=True)\n",
    "        \n",
    "      # Atualiza os pesos de cada camada\n",
    "      self.Who += lr*l1.T.dot(l2_delta)\n",
    "      self.Wxh += lr*l0.T.dot(l1_delta)\n",
    "      \n",
    "      epoch_loss = np.mean(np.abs(l2_error))\n",
    "      \n",
    "      if (epoch % 1000) == 0:\n",
    "        total_loss.append(epoch_loss)\n",
    "        print(\"Loss: \" + str(epoch_loss))\n",
    "        \n",
    "    return total_loss"
   ]
  },
  {
   "cell_type": "markdown",
   "metadata": {},
   "source": [
    "### O teste da porta XOR\n",
    "Agora estamos prontos para verificar se resolvemos o problema da porta XOR. Abaixo é criado o dataset para o treinamento da rede de uma XOR de 2 bits."
   ]
  },
  {
   "cell_type": "code",
   "execution_count": 559,
   "metadata": {},
   "outputs": [],
   "source": [
    "X = np.array([\n",
    "  [0, 0],\n",
    "  [0, 1],\n",
    "  [1, 0],\n",
    "  [1, 1]\n",
    "])\n",
    "\n",
    "y = np.array([\n",
    "  [0],\n",
    "  [1],\n",
    "  [1],\n",
    "  [0]\n",
    "])"
   ]
  },
  {
   "cell_type": "markdown",
   "metadata": {},
   "source": [
    "Instanciamos a classe MLP com 2 neurônios que serão a entrada da rede, 3 na segunda camada e 1 na saída."
   ]
  },
  {
   "cell_type": "code",
   "execution_count": 560,
   "metadata": {},
   "outputs": [],
   "source": [
    "model = MLP(2, 3, 1)"
   ]
  },
  {
   "cell_type": "markdown",
   "metadata": {},
   "source": [
    "O modelo é treinado com 10000 épocas e taxa de aprendizagem 2. É possível observar o erro diminuindo no gráfico abaixo."
   ]
  },
  {
   "cell_type": "code",
   "execution_count": 561,
   "metadata": {},
   "outputs": [
    {
     "name": "stdout",
     "output_type": "stream",
     "text": [
      "Loss: 0.4918924891953145\n",
      "Loss: 0.49784120634613127\n",
      "Loss: 0.4770238639015131\n",
      "Loss: 0.47427009180420193\n",
      "Loss: 0.4739660937922875\n",
      "Loss: 0.4075260042893363\n",
      "Loss: 0.13317061971549587\n",
      "Loss: 0.06763001946463289\n",
      "Loss: 0.0448846170909348\n",
      "Loss: 0.03354155555457529\n"
     ]
    }
   ],
   "source": [
    "loss = model.fit(X, y, 10000, 1)"
   ]
  },
  {
   "cell_type": "code",
   "execution_count": 562,
   "metadata": {},
   "outputs": [
    {
     "data": {
      "text/plain": [
       "[<matplotlib.lines.Line2D at 0x7f1b7366d6d8>]"
      ]
     },
     "execution_count": 562,
     "metadata": {},
     "output_type": "execute_result"
    },
    {
     "data": {
      "image/png": "[encoded data removed]",
      "text/plain": [
       "<Figure size 432x288 with 1 Axes>"
      ]
     },
     "metadata": {
      "needs_background": "light"
     },
     "output_type": "display_data"
    }
   ],
   "source": [
    "plt.plot(loss)"
   ]
  },
  {
   "cell_type": "code",
   "execution_count": 564,
   "metadata": {},
   "outputs": [
    {
     "data": {
      "text/plain": [
       "array([[0.00099933],\n",
       "       [0.99857227],\n",
       "       [0.99859312],\n",
       "       [0.00124572]])"
      ]
     },
     "execution_count": 564,
     "metadata": {},
     "output_type": "execute_result"
    }
   ],
   "source": [
    "# Passando os valores de entrada pela rede para conferir os resultados\n",
    "mlp.predict(X)"
   ]
  },
  {
   "cell_type": "code",
   "execution_count": null,
   "metadata": {},
   "outputs": [],
   "source": []
  }
 ],
 "metadata": {
  "kernelspec": {
   "display_name": "Python 3",
   "language": "python",
   "name": "python3"
  },
  "language_info": {
   "codemirror_mode": {
    "name": "ipython",
    "version": 3
   },
   "file_extension": ".py",
   "mimetype": "text/x-python",
   "name": "python",
   "nbconvert_exporter": "python",
   "pygments_lexer": "ipython3",
   "version": "3.7.3"
  }
 },
 "nbformat": 4,
 "nbformat_minor": 2
}
