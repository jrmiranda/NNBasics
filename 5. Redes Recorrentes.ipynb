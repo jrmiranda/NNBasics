{
 "cells": [
  {
   "cell_type": "code",
   "execution_count": 352,
   "metadata": {},
   "outputs": [],
   "source": [
    "import numpy as np\n",
    "from keras.models import Sequential\n",
    "from keras.layers import SimpleRNN, Dense\n",
    "import matplotlib.pyplot as plt"
   ]
  },
  {
   "cell_type": "code",
   "execution_count": 353,
   "metadata": {},
   "outputs": [],
   "source": [
    "# Uma função apenas para gerar o dataset a partir de uma lista.\n",
    "# Por exemplo: se a lista for [1, 2, 3, 4, 5], para uma janela=3,\n",
    "# a saída será: x = [[1, 2, 3], [2, 3, 4]] e y=[4, 5]\n",
    "def dataset(data, window=1, shuffle=True):\n",
    "  n = len(data)\n",
    "  x = []\n",
    "  y = []\n",
    "  \n",
    "  for i in range(n-window):\n",
    "    x.append(data[i:i+steps])\n",
    "    y.append(data[i+steps])\n",
    "    \n",
    "  if shuffle:\n",
    "    xy = list(zip(x, y))\n",
    "    np.random.shuffle(xy)\n",
    "    x, y = zip(*xy)\n",
    "    \n",
    "  x = np.array(x)\n",
    "  x = x.reshape(x.shape[0], x.shape[1], 1)\n",
    "  y = np.array(y)\n",
    "  y = y.reshape(x.shape[0], 1)\n",
    "  \n",
    "  return x, y"
   ]
  },
  {
   "cell_type": "code",
   "execution_count": 354,
   "metadata": {},
   "outputs": [
    {
     "name": "stdout",
     "output_type": "stream",
     "text": [
      "(99, 1, 1)\n",
      "(99, 1)\n"
     ]
    }
   ],
   "source": [
    "samples = 100\n",
    "steps = 1\n",
    "shuffle = True\n",
    "\n",
    "n = np.arange(0, samples, 1)\n",
    "f = np.log(1+n+np.sin(n))\n",
    "\n",
    "x_train, y_train = dataset(f, steps)\n",
    "x_test, y_test = dataset(f, steps, shuffle=False)\n",
    "\n",
    "print(x_train.shape)\n",
    "print(y_train.shape)"
   ]
  },
  {
   "cell_type": "code",
   "execution_count": 346,
   "metadata": {},
   "outputs": [],
   "source": [
    "model = Sequential()\n",
    "model.add(SimpleRNN(4, input_shape=(steps,1)))\n",
    "model.add(Dense(1))"
   ]
  },
  {
   "cell_type": "code",
   "execution_count": 347,
   "metadata": {},
   "outputs": [],
   "source": [
    "model.compile(optimizer='adam', loss='mean_squared_error', metrics=['accuracy'])"
   ]
  },
  {
   "cell_type": "code",
   "execution_count": 348,
   "metadata": {},
   "outputs": [
    {
     "name": "stdout",
     "output_type": "stream",
     "text": [
      "Epoch 1/50\n",
      "99/99 [==============================] - 3s 32ms/step - loss: 31.8986 - acc: 0.0000e+00\n",
      "Epoch 2/50\n",
      "99/99 [==============================] - 0s 2ms/step - loss: 23.8647 - acc: 0.0000e+00\n",
      "Epoch 3/50\n",
      "99/99 [==============================] - 0s 2ms/step - loss: 17.1531 - acc: 0.0000e+00\n",
      "Epoch 4/50\n",
      "99/99 [==============================] - 0s 2ms/step - loss: 12.3092 - acc: 0.0000e+00\n",
      "Epoch 5/50\n",
      "99/99 [==============================] - 0s 2ms/step - loss: 8.3051 - acc: 0.0000e+00\n",
      "Epoch 6/50\n",
      "99/99 [==============================] - 0s 2ms/step - loss: 4.8681 - acc: 0.0000e+00\n",
      "Epoch 7/50\n",
      "99/99 [==============================] - 0s 2ms/step - loss: 3.1306 - acc: 0.0000e+00\n",
      "Epoch 8/50\n",
      "99/99 [==============================] - 0s 2ms/step - loss: 2.0538 - acc: 0.0000e+00\n",
      "Epoch 9/50\n",
      "99/99 [==============================] - 0s 2ms/step - loss: 1.0354 - acc: 0.0000e+00\n",
      "Epoch 10/50\n",
      "99/99 [==============================] - 0s 2ms/step - loss: 0.6415 - acc: 0.0000e+00\n",
      "Epoch 11/50\n",
      "99/99 [==============================] - 0s 2ms/step - loss: 0.5274 - acc: 0.0000e+00\n",
      "Epoch 12/50\n",
      "99/99 [==============================] - 0s 2ms/step - loss: 0.4766 - acc: 0.0000e+00\n",
      "Epoch 13/50\n",
      "99/99 [==============================] - 0s 2ms/step - loss: 0.4481 - acc: 0.0000e+00\n",
      "Epoch 14/50\n",
      "99/99 [==============================] - 0s 2ms/step - loss: 0.4302 - acc: 0.0000e+00\n",
      "Epoch 15/50\n",
      "99/99 [==============================] - 0s 2ms/step - loss: 0.4167 - acc: 0.0000e+00\n",
      "Epoch 16/50\n",
      "99/99 [==============================] - 0s 2ms/step - loss: 0.4064 - acc: 0.0000e+00\n",
      "Epoch 17/50\n",
      "99/99 [==============================] - 0s 2ms/step - loss: 0.3966 - acc: 0.0000e+00\n",
      "Epoch 18/50\n",
      "99/99 [==============================] - 0s 2ms/step - loss: 0.3865 - acc: 0.0000e+00\n",
      "Epoch 19/50\n",
      "99/99 [==============================] - 0s 2ms/step - loss: 0.3769 - acc: 0.0000e+00\n",
      "Epoch 20/50\n",
      "99/99 [==============================] - 0s 2ms/step - loss: 0.3669 - acc: 0.0000e+00\n",
      "Epoch 21/50\n",
      "99/99 [==============================] - 0s 2ms/step - loss: 0.3551 - acc: 0.0000e+00\n",
      "Epoch 22/50\n",
      "99/99 [==============================] - 0s 2ms/step - loss: 0.3428 - acc: 0.0000e+00\n",
      "Epoch 23/50\n",
      "99/99 [==============================] - 0s 2ms/step - loss: 0.3306 - acc: 0.0000e+00\n",
      "Epoch 24/50\n",
      "99/99 [==============================] - 0s 2ms/step - loss: 0.3174 - acc: 0.0000e+00\n",
      "Epoch 25/50\n",
      "99/99 [==============================] - 0s 2ms/step - loss: 0.3066 - acc: 0.0000e+00\n",
      "Epoch 26/50\n",
      "99/99 [==============================] - 0s 2ms/step - loss: 0.2939 - acc: 0.0000e+00\n",
      "Epoch 27/50\n",
      "99/99 [==============================] - 0s 2ms/step - loss: 0.2817 - acc: 0.0000e+00\n",
      "Epoch 28/50\n",
      "99/99 [==============================] - 0s 2ms/step - loss: 0.2709 - acc: 0.0000e+00\n",
      "Epoch 29/50\n",
      "99/99 [==============================] - 0s 2ms/step - loss: 0.2589 - acc: 0.0000e+00\n",
      "Epoch 30/50\n",
      "99/99 [==============================] - 0s 2ms/step - loss: 0.2478 - acc: 0.0000e+00\n",
      "Epoch 31/50\n",
      "99/99 [==============================] - 0s 2ms/step - loss: 0.2362 - acc: 0.0000e+00\n",
      "Epoch 32/50\n",
      "99/99 [==============================] - 0s 2ms/step - loss: 0.2234 - acc: 0.0000e+00\n",
      "Epoch 33/50\n",
      "99/99 [==============================] - 0s 2ms/step - loss: 0.2123 - acc: 0.0000e+00\n",
      "Epoch 34/50\n",
      "99/99 [==============================] - 0s 2ms/step - loss: 0.2003 - acc: 0.0000e+00\n",
      "Epoch 35/50\n",
      "99/99 [==============================] - 0s 2ms/step - loss: 0.1903 - acc: 0.0000e+00\n",
      "Epoch 36/50\n",
      "99/99 [==============================] - 0s 2ms/step - loss: 0.1801 - acc: 0.0000e+00\n",
      "Epoch 37/50\n",
      "99/99 [==============================] - 0s 2ms/step - loss: 0.1685 - acc: 0.0000e+00\n",
      "Epoch 38/50\n",
      "99/99 [==============================] - 0s 2ms/step - loss: 0.1598 - acc: 0.0000e+00\n",
      "Epoch 39/50\n",
      "99/99 [==============================] - 0s 2ms/step - loss: 0.1480 - acc: 0.0000e+00\n",
      "Epoch 40/50\n",
      "99/99 [==============================] - 0s 2ms/step - loss: 0.1417 - acc: 0.0000e+00\n",
      "Epoch 41/50\n",
      "99/99 [==============================] - 0s 2ms/step - loss: 0.1296 - acc: 0.0000e+00\n",
      "Epoch 42/50\n",
      "99/99 [==============================] - 0s 2ms/step - loss: 0.1196 - acc: 0.0000e+00\n",
      "Epoch 43/50\n",
      "99/99 [==============================] - 0s 2ms/step - loss: 0.1126 - acc: 0.0000e+00\n",
      "Epoch 44/50\n",
      "99/99 [==============================] - 0s 2ms/step - loss: 0.1053 - acc: 0.0000e+00\n",
      "Epoch 45/50\n",
      "99/99 [==============================] - 0s 2ms/step - loss: 0.0967 - acc: 0.0000e+00\n",
      "Epoch 46/50\n",
      "99/99 [==============================] - 0s 2ms/step - loss: 0.0887 - acc: 0.0000e+00\n",
      "Epoch 47/50\n",
      "99/99 [==============================] - 0s 2ms/step - loss: 0.0834 - acc: 0.0000e+00\n",
      "Epoch 48/50\n",
      "99/99 [==============================] - 0s 2ms/step - loss: 0.0786 - acc: 0.0000e+00\n",
      "Epoch 49/50\n",
      "99/99 [==============================] - 0s 2ms/step - loss: 0.0709 - acc: 0.0000e+00\n",
      "Epoch 50/50\n",
      "99/99 [==============================] - 0s 2ms/step - loss: 0.0654 - acc: 0.0000e+00\n"
     ]
    }
   ],
   "source": [
    "history = model.fit(x_train, y_train, epochs=50, batch_size=1, verbose=1)"
   ]
  },
  {
   "cell_type": "code",
   "execution_count": 349,
   "metadata": {},
   "outputs": [
    {
     "data": {
      "image/png": "[encoded data removed]",
      "text/plain": [
       "<Figure size 432x288 with 1 Axes>"
      ]
     },
     "metadata": {
      "needs_background": "light"
     },
     "output_type": "display_data"
    }
   ],
   "source": [
    "plt.plot(history.history['loss'], label='loss')\n",
    "plt.legend()\n",
    "plt.show()"
   ]
  },
  {
   "cell_type": "code",
   "execution_count": 351,
   "metadata": {},
   "outputs": [
    {
     "data": {
      "image/png": "[encoded data removed]",
      "text/plain": [
       "<Figure size 432x288 with 1 Axes>"
      ]
     },
     "metadata": {
      "needs_background": "light"
     },
     "output_type": "display_data"
    }
   ],
   "source": [
    "pred = model.predict(x_test)\n",
    "pred = pred.reshape(pred.shape[0])\n",
    "\n",
    "plt.plot(pred, label='prediction')\n",
    "plt.plot(f, label='real')\n",
    "plt.legend()\n",
    "plt.show()"
   ]
  },
  {
   "cell_type": "code",
   "execution_count": null,
   "metadata": {},
   "outputs": [],
   "source": []
  }
 ],
 "metadata": {
  "kernelspec": {
   "display_name": "Python 3",
   "language": "python",
   "name": "python3"
  },
  "language_info": {
   "codemirror_mode": {
    "name": "ipython",
    "version": 3
   },
   "file_extension": ".py",
   "mimetype": "text/x-python",
   "name": "python",
   "nbconvert_exporter": "python",
   "pygments_lexer": "ipython3",
   "version": "3.7.3"
  }
 },
 "nbformat": 4,
 "nbformat_minor": 2
}
