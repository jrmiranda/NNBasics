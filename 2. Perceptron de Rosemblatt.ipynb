{
 "cells": [
  {
   "cell_type": "markdown",
   "metadata": {},
   "source": [
    "# Redes Neurais: Perceptron de Rosemblatt\n",
    "O modelo de neurônio artificial de MacCulloch-Pitts possui diversas limitações, como por exemplo todas as entradas possuírem influências iguais(os pesos são 1 ou -1) e as entradas e saídas são sempre 0 ou 1. Tendo em vista estes problemas, Rosemblatt propôs um novo modelo, também de classificador binário(saída 0 ou 1), porém, com quaisquer valores nas entradas e com a possibilidade de atribuir um peso a cada uma delas. Este modelo é chamado de Perceptron.\n",
    "\n",
    "O Perceptron funciona assim:\n",
    "+ Multiplique cada entrada por um peso correspondente e some os produtos(produto interno)\n",
    "+ Some o resultado com um termo também ajustável que servirá como threshold(bias)\n",
    "+ Passe este valor por uma função de ativação\n",
    "+ Se o valor da função de ativação for menor que 0, a saída será 0, caso contrário, será 1\n",
    "\n",
    "Desta forma, o ajuste do neurônio será apenas pelos pesos e pelo bias."
   ]
  },
  {
   "cell_type": "markdown",
   "metadata": {},
   "source": [
    "## Implementação\n",
    "Primeiramente importamos as bibliotecas necessárias."
   ]
  },
  {
   "cell_type": "code",
   "execution_count": 3,
   "metadata": {},
   "outputs": [],
   "source": [
    "import numpy as np"
   ]
  },
  {
   "cell_type": "markdown",
   "metadata": {},
   "source": [
    "### A classe Perceptron\n",
    "\n",
    "Criaremos uma classe chamada `Perceptron` que inicializará em seu construtor o vetor de pesos e o bias.\n",
    "\n",
    "O método `predict` retornará a saída do Perceptron para uma certa entrada `x`. Note que é apenas utilizado a função de ativação `activation` no produto interno dos pesos com a entrada junto com o bias.\n",
    "\n",
    "O treinamento é feito no método `fit`, que em cada época irá atualizar os pesos e o bias para cada exemplo de entrada, levando em conta a diferença entra a saída real e a obtida."
   ]
  },
  {
   "cell_type": "code",
   "execution_count": 73,
   "metadata": {},
   "outputs": [],
   "source": [
    "class Perceptron():\n",
    "  def __init__(self, input_size):\n",
    "    self.W = np.zeros((input_size))\n",
    "    self.b = 0\n",
    "    \n",
    "    \n",
    "  def activation(self, x):\n",
    "    return int(x >= 0)\n",
    "    \n",
    "    \n",
    "  def predict(self, X):\n",
    "    return self.activation(np.dot(self.W, X) + self.b)\n",
    "  \n",
    "  \n",
    "  def fit(self, X, y, epochs=10):\n",
    "    for epoch in range(epochs):\n",
    "      \n",
    "      for xi, yi in zip(X, y):\n",
    "        error = yi - self.predict(xi)\n",
    "        \n",
    "        if error != 0:\n",
    "          self.W += error * xi\n",
    "          self.b += error\n",
    "          \n",
    "      print('Época ' + str(epoch) + ': Erro = ' + str(error))\n",
    "      \n",
    "      if error == 0:\n",
    "        break"
   ]
  },
  {
   "cell_type": "markdown",
   "metadata": {},
   "source": [
    "### Preparando o conjunto de treinamento\n",
    "Neste exemplo tentaremos treinar um Perceptron para simular uma porta AND de 3 bits. Para isso criamos o conjunto de treinamento onde cada elemento de `X_and`(entradas) tem uma saída correspondente em `y_and`."
   ]
  },
  {
   "cell_type": "code",
   "execution_count": 67,
   "metadata": {},
   "outputs": [],
   "source": [
    "X_and = np.array([\n",
    "  [0, 0, 0],\n",
    "  [0, 0, 1],\n",
    "  [0, 1, 0],\n",
    "  [0, 1, 1],\n",
    "  [1, 0, 0],\n",
    "  [1, 0, 1],\n",
    "  [1, 1, 0],\n",
    "  [1, 1, 1],\n",
    "])\n",
    "\n",
    "y_and = np.array([0, 0, 0, 0, 0, 0, 0, 1])"
   ]
  },
  {
   "cell_type": "markdown",
   "metadata": {},
   "source": [
    "### Treinamento\n",
    "O Perceptron é então instanciado e informado que o tamanho da entrada de cada elemento é 3 através de `input_size`. O método `fit` então é chamado com o conjunto de treinamento e o número de épocas 10."
   ]
  },
  {
   "cell_type": "code",
   "execution_count": 77,
   "metadata": {},
   "outputs": [],
   "source": [
    "neuron_and = Perceptron(input_size=3)"
   ]
  },
  {
   "cell_type": "code",
   "execution_count": 78,
   "metadata": {},
   "outputs": [
    {
     "name": "stdout",
     "output_type": "stream",
     "text": [
      "Época 0: Erro = 1\n",
      "Época 1: Erro = 1\n",
      "Época 2: Erro = 1\n",
      "Época 3: Erro = 1\n",
      "Época 4: Erro = 1\n",
      "Época 5: Erro = 0\n"
     ]
    }
   ],
   "source": [
    "neuron_and.fit(X_and, y_and, epochs=10)"
   ]
  },
  {
   "cell_type": "markdown",
   "metadata": {},
   "source": [
    "Podemos executar o método `predict` para cada elemento de `X_and` e verificar se os resultados estão corretos:"
   ]
  },
  {
   "cell_type": "code",
   "execution_count": 79,
   "metadata": {},
   "outputs": [
    {
     "name": "stdout",
     "output_type": "stream",
     "text": [
      "0\n",
      "0\n",
      "0\n",
      "0\n",
      "0\n",
      "0\n",
      "0\n",
      "1\n"
     ]
    }
   ],
   "source": [
    "for x in X_and:\n",
    "  print(neuron_and.predict(x))"
   ]
  },
  {
   "cell_type": "markdown",
   "metadata": {},
   "source": [
    "### Utilizando outro tipo de dados\n",
    "Agora vamos tentar realizar o treinamento com uma porta XOR de 2 bits."
   ]
  },
  {
   "cell_type": "code",
   "execution_count": 80,
   "metadata": {},
   "outputs": [],
   "source": [
    "X_xor = np.array([\n",
    "  [0, 0],\n",
    "  [0, 1],\n",
    "  [1, 0],\n",
    "  [1, 1]\n",
    "])\n",
    "\n",
    "y_xor = np.array([0, 1, 1, 0])"
   ]
  },
  {
   "cell_type": "code",
   "execution_count": 81,
   "metadata": {},
   "outputs": [],
   "source": [
    "neuron_xor = Perceptron(input_size=2)"
   ]
  },
  {
   "cell_type": "code",
   "execution_count": 83,
   "metadata": {},
   "outputs": [
    {
     "name": "stdout",
     "output_type": "stream",
     "text": [
      "Época 0: Erro = -1\n",
      "Época 1: Erro = -1\n",
      "Época 2: Erro = -1\n",
      "Época 3: Erro = -1\n",
      "Época 4: Erro = -1\n",
      "Época 5: Erro = -1\n",
      "Época 6: Erro = -1\n",
      "Época 7: Erro = -1\n",
      "Época 8: Erro = -1\n",
      "Época 9: Erro = -1\n",
      "Época 10: Erro = -1\n",
      "Época 11: Erro = -1\n",
      "Época 12: Erro = -1\n",
      "Época 13: Erro = -1\n",
      "Época 14: Erro = -1\n",
      "Época 15: Erro = -1\n",
      "Época 16: Erro = -1\n",
      "Época 17: Erro = -1\n",
      "Época 18: Erro = -1\n",
      "Época 19: Erro = -1\n"
     ]
    }
   ],
   "source": [
    "neuron_xor.fit(X_xor, y_xor, epochs=20)"
   ]
  },
  {
   "cell_type": "markdown",
   "metadata": {},
   "source": [
    "Mesmo com 20 épocas o modelo não conseguiu atingir 0 de erro. Isso se deve pelo fato de não ser possível fazer um classificador binário para a porta XOR utilizando uma reta para separar os pontos de saída 0 e 1.\n",
    "\n",
    "No próximo notebook exploraremos este tipo de problema."
   ]
  }
 ],
 "metadata": {
  "kernelspec": {
   "display_name": "Python 3",
   "language": "python",
   "name": "python3"
  },
  "language_info": {
   "codemirror_mode": {
    "name": "ipython",
    "version": 3
   },
   "file_extension": ".py",
   "mimetype": "text/x-python",
   "name": "python",
   "nbconvert_exporter": "python",
   "pygments_lexer": "ipython3",
   "version": "3.7.3"
  }
 },
 "nbformat": 4,
 "nbformat_minor": 2
}
